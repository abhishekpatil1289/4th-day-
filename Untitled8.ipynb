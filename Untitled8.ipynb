{
 "cells": [
  {
   "cell_type": "code",
   "execution_count": null,
   "metadata": {},
   "outputs": [],
   "source": []
  },
  {
   "cell_type": "code",
   "execution_count": 1,
   "metadata": {},
   "outputs": [
    {
     "name": "stdout",
     "output_type": "stream",
     "text": [
      " Please Enter the First Value a: 56\n",
      " Please Enter the Second Value b: 56\n",
      "Both a and b are Equal\n"
     ]
    }
   ],
   "source": [
    "a = float(input(\" Please Enter the First Value a: \"))\n",
    "b = float(input(\" Please Enter the Second Value b: \"))\n",
    "\n",
    "if(a > b):\n",
    "    print(\"{0} is Greater than {1}\".format(a, b))\n",
    "elif(b > a):\n",
    "    print(\"{0} is Greater than {1}\".format(b, a))\n",
    "else:\n",
    "    print(\"Both a and b are Equal\")"
   ]
  },
  {
   "cell_type": "code",
   "execution_count": null,
   "metadata": {},
   "outputs": [],
   "source": []
  },
  {
   "cell_type": "code",
   "execution_count": null,
   "metadata": {},
   "outputs": [],
   "source": []
  },
  {
   "cell_type": "code",
   "execution_count": null,
   "metadata": {},
   "outputs": [],
   "source": []
  },
  {
   "cell_type": "code",
   "execution_count": 2,
   "metadata": {},
   "outputs": [
    {
     "name": "stdout",
     "output_type": "stream",
     "text": [
      " Please Enter the First Value a: 5\n",
      " Please Enter the Second Value b: 9\n",
      "9.0 is Greater than 5.0\n"
     ]
    }
   ],
   "source": [
    "a = float(input(\" Please Enter the First Value a: \"))\n",
    "b = float(input(\" Please Enter the Second Value b: \"))\n",
    "\n",
    "if(a > b):\n",
    "    print(\"{0} is Greater than {1}\".format(a, b))\n",
    "elif(b > a):\n",
    "    print(\"{0} is Greater than {1}\".format(b, a))\n",
    "else:\n",
    "    print(\"Both a and b are Equal\")"
   ]
  },
  {
   "cell_type": "code",
   "execution_count": 19,
   "metadata": {},
   "outputs": [
    {
     "name": "stdout",
     "output_type": "stream",
     "text": [
      "['hellow', 'to', 'all', 'welcome', 'to', 'the', 'world', 'of', 'python', 'and', 'lets', 'us', 'all', 'come', 'together', 'to', 'learn', 'a', 'new', 'language']\n"
     ]
    }
   ],
   "source": [
    "my_string = 'hellow to all welcome to the world of python and lets us all come together to learn a new language'\n",
    "words = my_string.split()\n",
    "print(words)"
   ]
  },
  {
   "cell_type": "code",
   "execution_count": null,
   "metadata": {},
   "outputs": [],
   "source": []
  },
  {
   "cell_type": "code",
   "execution_count": 18,
   "metadata": {
    "scrolled": true
   },
   "outputs": [
    {
     "name": "stdout",
     "output_type": "stream",
     "text": [
      "['a', 'all', 'all', 'and', 'come', 'hellow', 'language', 'learn', 'lets', 'new', 'of', 'python', 'the', 'to', 'to', 'to', 'together', 'us', 'welcome', 'world']\n"
     ]
    }
   ],
   "source": [
    "my_string = 'hellow to all welcome to the world of python and lets us all come together to learn a new language'\n",
    "words = my_string.split()\n",
    "words.sort()\n",
    "print(words)"
   ]
  },
  {
   "cell_type": "code",
   "execution_count": null,
   "metadata": {},
   "outputs": [],
   "source": []
  },
  {
   "cell_type": "code",
   "execution_count": null,
   "metadata": {},
   "outputs": [],
   "source": []
  },
  {
   "cell_type": "code",
   "execution_count": null,
   "metadata": {},
   "outputs": [],
   "source": []
  },
  {
   "cell_type": "code",
   "execution_count": null,
   "metadata": {},
   "outputs": [],
   "source": []
  },
  {
   "cell_type": "code",
   "execution_count": null,
   "metadata": {},
   "outputs": [],
   "source": []
  },
  {
   "cell_type": "code",
   "execution_count": null,
   "metadata": {},
   "outputs": [],
   "source": []
  }
 ],
 "metadata": {
  "kernelspec": {
   "display_name": "Python 3",
   "language": "python",
   "name": "python3"
  },
  "language_info": {
   "codemirror_mode": {
    "name": "ipython",
    "version": 3
   },
   "file_extension": ".py",
   "mimetype": "text/x-python",
   "name": "python",
   "nbconvert_exporter": "python",
   "pygments_lexer": "ipython3",
   "version": "3.8.5"
  }
 },
 "nbformat": 4,
 "nbformat_minor": 4
}
