{
 "cells": [
  {
   "cell_type": "code",
   "execution_count": 1,
   "metadata": {},
   "outputs": [
    {
     "name": "stdout",
     "output_type": "stream",
     "text": [
      " sssssssssss\n",
      " s         s\n",
      " s         s\n",
      " s         s\n",
      " s         s\n",
      " sssssssssss\n",
      "\t\t\n"
     ]
    }
   ],
   "source": [
    "print(' sssssssssss\\n','s         s\\n','s         s\\n','s         s\\n','s         s\\n','sssssssssss\\n\\t\\t')"
   ]
  },
  {
   "cell_type": "code",
   "execution_count": null,
   "metadata": {},
   "outputs": [],
   "source": []
  },
  {
   "cell_type": "code",
   "execution_count": 2,
   "metadata": {},
   "outputs": [
    {
     "name": "stdout",
     "output_type": "stream",
     "text": [
      "the subsctraction of 56.2 and 46.8 is 9.400000000000006 \n"
     ]
    }
   ],
   "source": [
    "num1 = 56.2\n",
    "num2 = 46.8\n",
    "sub = num1 - num2\n",
    "print('the subsctraction of {0} and {1} is {2} '.format(num1,num2,sub))"
   ]
  },
  {
   "cell_type": "code",
   "execution_count": null,
   "metadata": {},
   "outputs": [],
   "source": []
  },
  {
   "cell_type": "code",
   "execution_count": 4,
   "metadata": {},
   "outputs": [
    {
     "name": "stdout",
     "output_type": "stream",
     "text": [
      "enter the 1st number = 3.5\n",
      "enter the 2nd number = 54.5\n",
      "-51.0\n"
     ]
    }
   ],
   "source": [
    "num1 = input('enter the 1st number = ')\n",
    "num2 = input('enter the 2nd number = ')\n",
    "sub = float(num1) - float(num2)\n",
    "print(sub)"
   ]
  },
  {
   "cell_type": "code",
   "execution_count": null,
   "metadata": {},
   "outputs": [],
   "source": []
  },
  {
   "cell_type": "code",
   "execution_count": 14,
   "metadata": {},
   "outputs": [
    {
     "name": "stdout",
     "output_type": "stream",
     "text": [
      "the multipcation of 3.6 and 3.98 is   = 14.328  \n"
     ]
    }
   ],
   "source": [
    "num1 = 3.6\n",
    "num2 = 3.98\n",
    "multi = num1 * num2\n",
    "print('the multipcation of {0} and {1} is   = {2}  '.format(num1,num2,multi))"
   ]
  },
  {
   "cell_type": "code",
   "execution_count": null,
   "metadata": {},
   "outputs": [],
   "source": []
  },
  {
   "cell_type": "code",
   "execution_count": 15,
   "metadata": {},
   "outputs": [
    {
     "name": "stdout",
     "output_type": "stream",
     "text": [
      "enter the first number =5\n",
      "enter the second number =9\n",
      "45.0\n"
     ]
    }
   ],
   "source": [
    "num1 = input('enter the first number =')\n",
    "num2 = input('enter the second number =')\n",
    "multi = float(num1) * float(num2)\n",
    "print(multi)"
   ]
  },
  {
   "cell_type": "code",
   "execution_count": null,
   "metadata": {},
   "outputs": [],
   "source": []
  },
  {
   "cell_type": "code",
   "execution_count": 25,
   "metadata": {},
   "outputs": [
    {
     "name": "stdout",
     "output_type": "stream",
     "text": [
      "division of 687 and 54 is    =  12.722222222222221\n"
     ]
    }
   ],
   "source": [
    "num1 = 687\n",
    "num2 = 54\n",
    "div =  num1 / num2\n",
    "print('division of {0} and {1} is    =  {2}'.format(num1,num2,div))"
   ]
  },
  {
   "cell_type": "code",
   "execution_count": null,
   "metadata": {},
   "outputs": [],
   "source": []
  },
  {
   "cell_type": "code",
   "execution_count": 34,
   "metadata": {},
   "outputs": [
    {
     "name": "stdout",
     "output_type": "stream",
     "text": [
      "enter the 1st num100\n",
      "enter the second number10\n",
      "the answer is = %.1f 10.0\n"
     ]
    }
   ],
   "source": [
    "print('the answer is = %.1f',(float(input('enter the 1st num')))/(float(input('enter the second number'))))"
   ]
  },
  {
   "cell_type": "code",
   "execution_count": null,
   "metadata": {},
   "outputs": [],
   "source": []
  },
  {
   "cell_type": "code",
   "execution_count": 39,
   "metadata": {},
   "outputs": [
    {
     "name": "stdout",
     "output_type": "stream",
     "text": [
      "hello too all welcome to the world of python & python lets us all come togethger to learn a new language\n"
     ]
    }
   ],
   "source": [
    "string = ('hello too all welcome to the world of python & python lets us all come togethger to learn a new language')\n",
    "print(string)"
   ]
  },
  {
   "cell_type": "code",
   "execution_count": null,
   "metadata": {},
   "outputs": [],
   "source": []
  },
  {
   "cell_type": "code",
   "execution_count": null,
   "metadata": {},
   "outputs": [],
   "source": [
    "a=a\n",
    "b=b\n",
    "a,b=a,b\n",
    "print(a,b)\n",
    "\n",
    "b,a=a,b\n",
    "print(a,b)"
   ]
  },
  {
   "cell_type": "code",
   "execution_count": null,
   "metadata": {},
   "outputs": [],
   "source": []
  },
  {
   "cell_type": "code",
   "execution_count": null,
   "metadata": {},
   "outputs": [],
   "source": []
  },
  {
   "cell_type": "code",
   "execution_count": 6,
   "metadata": {},
   "outputs": [
    {
     "name": "stdout",
     "output_type": "stream",
     "text": [
      " Please Enter the First Value a: 5\n",
      " Please Enter the Second Value b: 8\n",
      "8.0 is Greater than 5.0\n"
     ]
    }
   ],
   "source": [
    "a = float(input(\" Please Enter the First Value a: \"))\n",
    "b = float(input(\" Please Enter the Second Value b: \"))\n",
    "\n",
    "if(a > b):\n",
    "    print(\"{0} is Greater than {1}\".format(a, b))\n",
    "elif(b > a):\n",
    "    print(\"{0} is Greater than {1}\".format(b, a))\n",
    "else:\n",
    "    print(\"Both a and b are Equal\")"
   ]
  },
  {
   "cell_type": "code",
   "execution_count": null,
   "metadata": {},
   "outputs": [],
   "source": []
  },
  {
   "cell_type": "code",
   "execution_count": null,
   "metadata": {},
   "outputs": [],
   "source": []
  },
  {
   "cell_type": "code",
   "execution_count": 11,
   "metadata": {},
   "outputs": [
    {
     "name": "stdout",
     "output_type": "stream",
     "text": [
      "['hellow', 'to', 'all', 'welcome', 'to', 'the', 'world', 'of', 'python', 'and', 'lets', 'us', 'all', 'come', 'together', 'to', 'learn', 'a', 'new', 'language']\n"
     ]
    }
   ],
   "source": [
    "my_string = 'hellow to all welcome to the world of python and lets us all come together to learn a new language'\n",
    "words = my_string.split()\n",
    "print(words)"
   ]
  },
  {
   "cell_type": "code",
   "execution_count": null,
   "metadata": {},
   "outputs": [],
   "source": []
  },
  {
   "cell_type": "code",
   "execution_count": null,
   "metadata": {},
   "outputs": [],
   "source": []
  },
  {
   "cell_type": "code",
   "execution_count": 10,
   "metadata": {},
   "outputs": [
    {
     "name": "stdout",
     "output_type": "stream",
     "text": [
      "['a', 'all', 'all', 'and', 'come', 'hellow', 'language', 'learn', 'lets', 'new', 'of', 'python', 'the', 'to', 'to', 'to', 'together', 'us', 'welcome', 'world']\n"
     ]
    }
   ],
   "source": [
    "my_string = 'hellow to all welcome to the world of python and lets us all come together to learn a new language'\n",
    "words = my_string.split()\n",
    "words.sort()\n",
    "print(words)"
   ]
  },
  {
   "cell_type": "code",
   "execution_count": null,
   "metadata": {},
   "outputs": [],
   "source": []
  },
  {
   "cell_type": "code",
   "execution_count": null,
   "metadata": {},
   "outputs": [],
   "source": []
  },
  {
   "cell_type": "code",
   "execution_count": null,
   "metadata": {},
   "outputs": [],
   "source": []
  },
  {
   "cell_type": "code",
   "execution_count": null,
   "metadata": {},
   "outputs": [],
   "source": []
  },
  {
   "cell_type": "code",
   "execution_count": null,
   "metadata": {},
   "outputs": [],
   "source": []
  }
 ],
 "metadata": {
  "kernelspec": {
   "display_name": "Python 3",
   "language": "python",
   "name": "python3"
  }
 },
 "nbformat": 4,
 "nbformat_minor": 4
}
